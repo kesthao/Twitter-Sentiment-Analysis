{
 "cells": [
  {
   "cell_type": "markdown",
   "metadata": {},
   "source": [
    "## Twitter Data Collection\n",
    "\n",
    "```Tweepy``` was used to retrieve tweets with the keywords, tax, #taxday, and taxation, to analyze the overall sentiment around taxes.  "
   ]
  },
  {
   "cell_type": "code",
   "execution_count": null,
   "metadata": {},
   "outputs": [],
   "source": [
    "# Import required libraries\n",
    "import tweepy\n",
    "import json\n",
    "import pprint\n",
    "import pickle"
   ]
  },
  {
   "cell_type": "code",
   "execution_count": null,
   "metadata": {
    "collapsed": true
   },
   "outputs": [],
   "source": [
    "# Set up Authentication to Twitter\n",
    "con_key = '#'\n",
    "con_secret = '#'\n",
    "acc_token = '#'\n",
    "acc_secret = '#'"
   ]
  },
  {
   "cell_type": "code",
   "execution_count": null,
   "metadata": {},
   "outputs": [],
   "source": [
    "# Use tweepy.OAuthHandler to create an authentication using the given key and secret\n",
    "auth = tweepy.OAuthHandler(consumer_key=con_key, consumer_secret=con_secret)\n",
    "auth.set_access_token(acc_token, acc_secret)\n",
    "\n",
    "# Connect to the Twitter API using the authentication\n",
    "api = tweepy.API(auth, wait_on_rate_limit = True, wait_on_rate_limit_notify = True)"
   ]
  },
  {
   "cell_type": "markdown",
   "metadata": {},
   "source": [
    "The Streaming API was used to retrieve live tweets on Monday, 4/18/16, which was the last day to complete taxes without penalty."
   ]
  },
  {
   "cell_type": "code",
   "execution_count": null,
   "metadata": {},
   "outputs": [],
   "source": [
    "# Create a subclass of tweepy.StreamListener to add a response to on_status\n",
    "class PrintingStreamListener(tweepy.StreamListener):\n",
    "\n",
    "    def on_status(self, status):\n",
    "        print(status.text)\n",
    "        \n",
    "    # Save streaming tweets to a JSON file for analysis later\n",
    "    def on_data(self, data):\n",
    "        try:\n",
    "            with open('tweets.json', 'a') as f:\n",
    "                f.write(data)\n",
    "                return True\n",
    "        except BaseException as e:\n",
    "            print(\"Error on_data: %s\" % str(e))\n",
    "        return True\n",
    "        \n",
    "    #disconnect the stream if we receive an error message indicating we are overloading Twitter\n",
    "    def on_error(self, status_code):\n",
    "        if status_code == 420:\n",
    "            #returning False in on_data disconnects the stream\n",
    "            return False"
   ]
  },
  {
   "cell_type": "code",
   "execution_count": null,
   "metadata": {},
   "outputs": [],
   "source": [
    "# Create and authenticate an instance of our new ```PrintingStreamListener``` class\n",
    "my_stream_listener = PrintingStreamListener()\n",
    "my_stream = tweepy.Stream(auth = api.auth, listener=my_stream_listener)"
   ]
  },
  {
   "cell_type": "code",
   "execution_count": null,
   "metadata": {},
   "outputs": [],
   "source": [
    "# Look for recent tweets with the keywords, tax, taxation, taxday.\n",
    "my_stream.filter(track=['tax', 'taxation', 'taxday'])"
   ]
  },
  {
   "cell_type": "code",
   "execution_count": null,
   "metadata": {},
   "outputs": [],
   "source": [
    "# Disconnect from twitter stream\n",
    "my_stream.disconnect()"
   ]
  },
  {
   "cell_type": "markdown",
   "metadata": {},
   "source": [
    "To classify the twitter users's political affiliation, a list of followers for each of the 4 major presidential condidates was dowloaded using ```tweepy```."
   ]
  },
  {
   "cell_type": "code",
   "execution_count": null,
   "metadata": {},
   "outputs": [],
   "source": [
    "# Get a list of Donald Trump followers\n",
    "donald_trump_followers = []\n",
    "for user in tweepy.Cursor(api.followers, screen_name=\"realDonaldTrump\").items():\n",
    "    donald_trump_followers.append(user)"
   ]
  },
  {
   "cell_type": "code",
   "execution_count": null,
   "metadata": {},
   "outputs": [],
   "source": [
    "# Get a list of Ted Cruz followers\n",
    "ted_cruz_followers = []\n",
    "for user in tweepy.Cursor(api.followers, screen_name=\"tedcruz\").items():\n",
    "    ted_cruz_followers.append(user)"
   ]
  },
  {
   "cell_type": "code",
   "execution_count": null,
   "metadata": {},
   "outputs": [],
   "source": [
    "# Get a list of Bernie Sanders followers\n",
    "bernie_sanders_followers = []\n",
    "for user in tweepy.Cursor(api.followers, screen_name=\"BernieSanders\").items():\n",
    "    bernie_sanders_followers.append(user)"
   ]
  },
  {
   "cell_type": "code",
   "execution_count": null,
   "metadata": {},
   "outputs": [],
   "source": [
    "# Get a list of Hilary Cliton followers\n",
    "hilary_clinton_followers = []\n",
    "for user in tweepy.Cursor(api.followers, screen_name=\"HilaryClinton\").items():\n",
    "    hilary_clinton_followers.append(user)"
   ]
  },
  {
   "cell_type": "code",
   "execution_count": null,
   "metadata": {
    "collapsed": true
   },
   "outputs": [],
   "source": [
    "# Save the list of trump followers as a pickle file for analysis later\n",
    "with open(\"trump2.pickle\",\"wb\") as f:\n",
    "    pickle.dump(trump_list, f)"
   ]
  },
  {
   "cell_type": "code",
   "execution_count": null,
   "metadata": {
    "collapsed": true
   },
   "outputs": [],
   "source": [
    "# Save the list of cruz followers as a pickle file for analysis later\n",
    "with open(\"cruz.pickle\",\"wb\") as f:\n",
    "    pickle.dump(ted_cruz_followers, f)"
   ]
  },
  {
   "cell_type": "code",
   "execution_count": null,
   "metadata": {
    "collapsed": true
   },
   "outputs": [],
   "source": [
    "# Save the list of bernie followers as a pickle file for analysis later\n",
    "with open(\"bernie.pickle\",\"wb\") as f:\n",
    "    pickle.dump(bernie_sanders_followers, f)"
   ]
  },
  {
   "cell_type": "code",
   "execution_count": null,
   "metadata": {},
   "outputs": [],
   "source": [
    "# Save the list of trump followers as a pickle file for analysis later\n",
    "with open(\"hilary.pickle\",\"wb\") as f:\n",
    "    pickle.dump(hilary_clinton_followers, f)"
   ]
  }
 ],
 "metadata": {
  "kernelspec": {
   "display_name": "Python [default]",
   "language": "python",
   "name": "python3"
  },
  "language_info": {
   "codemirror_mode": {
    "name": "ipython",
    "version": 3
   },
   "file_extension": ".py",
   "mimetype": "text/x-python",
   "name": "python",
   "nbconvert_exporter": "python",
   "pygments_lexer": "ipython3",
   "version": "3.5.4"
  }
 },
 "nbformat": 4,
 "nbformat_minor": 1
}
